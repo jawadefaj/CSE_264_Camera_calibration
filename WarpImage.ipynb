{
 "cells": [
  {
   "cell_type": "code",
   "execution_count": 1,
   "metadata": {},
   "outputs": [],
   "source": [
    "import numpy as np\n",
    "import cv2\n",
    "import sys"
   ]
  },
  {
   "cell_type": "code",
   "execution_count": 2,
   "metadata": {},
   "outputs": [],
   "source": [
    "horVP = [ 0.43189992  0.60176086 -0.67182314]\n",
    "vertVP = [-0.97114659  0.0058229  -0.23841223]\n",
    "transversalVP = [-0.14435657  0.78139873  0.60710559]\n",
    "fixedMtx = np.array([[967.74176025,   0.0,         599.80400823],\n",
    "                     [  0.0,         979.05285645, 465.81112285],\n",
    "                     [  0.0,           0.0,           1.0   ]])\n",
    "Kinv = np.linalg.inv(fixedMtx)\n",
    "srcImage = cv2.imread('building_undis.jpg')\n",
    "destPathW = 'W.jpg'\n",
    "print(horVP)\n",
    "print(vertVP)\n",
    "print(transversalVP)"
   ]
  },
  {
   "cell_type": "code",
   "execution_count": 4,
   "metadata": {},
   "outputs": [
    {
     "data": {
      "text/plain": [
       "array([[ 0.43189992, -0.97114659, -0.14435657],\n",
       "       [ 0.60176086,  0.0058229 ,  0.78139873],\n",
       "       [-0.67182314, -0.23841223,  0.60710559]])"
      ]
     },
     "execution_count": 4,
     "metadata": {},
     "output_type": "execute_result"
    }
   ],
   "source": [
    "W = np.stack((horVP, vertVP, transversalVP))\n",
    "R = W.transpose()\n",
    "WInv = np.linalg.inv(W)\n",
    "np.dot(R, vertVP)\n",
    "np.dot(WInv , vertVP)"
   ]
  },
  {
   "cell_type": "code",
   "execution_count": 10,
   "metadata": {},
   "outputs": [],
   "source": [
    "Ht = np.array([[1, 0, 0],\n",
    "     [0, 1, 1000],\n",
    "     [0, 0, 1]])\n",
    "Hw = np.dot( Ht, np.dot( np.dot(fixedMtx, W), Kinv ) )\n",
    "transformedImageW = cv2.warpPerspective(srcImage, M = Hw, dsize = (6000, 5000))"
   ]
  }
 ],
 "metadata": {
  "kernelspec": {
   "display_name": "Python 3",
   "language": "python",
   "name": "python3"
  },
  "language_info": {
   "codemirror_mode": {
    "name": "ipython",
    "version": 3
   },
   "file_extension": ".py",
   "mimetype": "text/x-python",
   "name": "python",
   "nbconvert_exporter": "python",
   "pygments_lexer": "ipython3",
   "version": "3.5.6"
  }
 },
 "nbformat": 4,
 "nbformat_minor": 4
}
