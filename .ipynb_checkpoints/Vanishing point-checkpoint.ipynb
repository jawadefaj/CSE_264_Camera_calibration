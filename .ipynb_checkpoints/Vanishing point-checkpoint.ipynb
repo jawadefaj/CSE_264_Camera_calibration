{
 "cells": [
  {
   "cell_type": "code",
   "execution_count": null,
   "metadata": {},
   "outputs": [],
   "source": [
    "# Part 3: Find vanishing directions"
   ]
  },
  {
   "cell_type": "code",
   "execution_count": 1,
   "metadata": {},
   "outputs": [
    {
     "ename": "ImportError",
     "evalue": "cannot import name 'LMedS'",
     "output_type": "error",
     "traceback": [
      "\u001b[1;31m---------------------------------------------------------------------------\u001b[0m",
      "\u001b[1;31mImportError\u001b[0m                               Traceback (most recent call last)",
      "\u001b[1;32m<ipython-input-1-dae4d093b937>\u001b[0m in \u001b[0;36m<module>\u001b[1;34m()\u001b[0m\n\u001b[0;32m      2\u001b[0m \u001b[1;32mimport\u001b[0m \u001b[0mcv2\u001b[0m\u001b[1;33m\u001b[0m\u001b[0m\n\u001b[0;32m      3\u001b[0m \u001b[1;32mimport\u001b[0m \u001b[0msys\u001b[0m\u001b[1;33m\u001b[0m\u001b[0m\n\u001b[1;32m----> 4\u001b[1;33m \u001b[1;32mfrom\u001b[0m \u001b[0mpart3\u001b[0m \u001b[1;32mimport\u001b[0m \u001b[0mLMedS\u001b[0m\u001b[1;33m\u001b[0m\u001b[0m\n\u001b[0m",
      "\u001b[1;31mImportError\u001b[0m: cannot import name 'LMedS'"
     ]
    }
   ],
   "source": [
    "import numpy as np\n",
    "import cv2\n",
    "import sys\n",
    "from part3 import LMedS"
   ]
  },
  {
   "cell_type": "code",
   "execution_count": null,
   "metadata": {},
   "outputs": [],
   "source": [
    "fixedMtx = np.array([[959.97386918,   0.,         600.1494242 ],\n",
    "                     [  0.,         960.78700236, 458.65921944],\n",
    "                     [  0.,           0.,           1.        ]])"
   ]
  },
  {
   "cell_type": "code",
   "execution_count": null,
   "metadata": {},
   "outputs": [],
   "source": [
    "horizontalLines = np.load('horizontalLines.npy')\n",
    "verticalLines = np.load('verticalLines.npy')"
   ]
  },
  {
   "cell_type": "code",
   "execution_count": null,
   "metadata": {},
   "outputs": [],
   "source": [
    "horizontalLines"
   ]
  },
  {
   "cell_type": "code",
   "execution_count": null,
   "metadata": {},
   "outputs": [],
   "source": [
    "verticalLines"
   ]
  },
  {
   "cell_type": "code",
   "execution_count": null,
   "metadata": {},
   "outputs": [],
   "source": [
    "KInverse = np.linalg.inv(fixedMtx)\n",
    "KInverse"
   ]
  },
  {
   "cell_type": "code",
   "execution_count": null,
   "metadata": {},
   "outputs": [],
   "source": [
    "def getAngleBetween(a, b):\n",
    "    dot_product = np.dot(a, b) # x.y\n",
    "    norm_a = np.linalg.norm(a) #|x|\n",
    "    norm_b = np.linalg.norm(b) #|y|\n",
    "    cosTheta =  dot_product / (norm_a * norm_b)\n",
    "    \n",
    "    return (np.arccos(cosTheta) * 180) / 3.1415\n"
   ]
  },
  {
   "cell_type": "code",
   "execution_count": null,
   "metadata": {},
   "outputs": [],
   "source": [
    "def getCameraPoint(pixelPoint):\n",
    "    return np.dot(KInverse,np.array([pixelPoint[0], pixelPoint[1], 1])) # K-1 * [x y 1] \n",
    "\n",
    "\n",
    "# points on pixel frame [[x y] [ x y]]\n",
    "def getLeverVector(points):\n",
    "    # n = pc1 x pc2\n",
    "    pc1 = getCameraPoint(points[0])\n",
    "    pc2 = getCameraPoint(points[1])\n",
    "    n = np.cross(pc1, pc2)\n",
    "#     return n\n",
    "#   don't need to normalize as it doesn't have any effect.\n",
    "    return n / np.linalg.norm(n) \n",
    "\n",
    "\n",
    "# n1, n2 = lever vectors of two parallel lines.\n",
    "def getVanishingDirection(n1, n2):\n",
    "    v = np.cross(n1, n2)\n",
    "    return v / np.linalg.norm(v)\n",
    "    \n",
    "\n",
    "# n is a lever vector and v is vanishing direction computed from two lever vectors != n\n",
    "def getResidual(n, v):\n",
    "    r = np.linalg.norm(np.dot(n, v))\n",
    "    return r\n",
    "\n",
    "\n",
    "# pre-computed so that we don't need to recompute\n",
    "def getAllLeverVectors(lines):\n",
    "    \n",
    "    leverVectors = []\n",
    "    for lineIndex in range(lines.shape[0]):\n",
    "        leverVectors.append(getLeverVector(lines[lineIndex]))\n",
    "    \n",
    "    return leverVectors\n",
    "        \n",
    "    \n",
    "def getVPwithMinimalMedianResidualError(lines):\n",
    "    \n",
    "    leverVectors = getAllLeverVectors(lines)\n",
    "    medianResiduals = []\n",
    "    minResidual = sys.float_info.max\n",
    "    minI = None\n",
    "    minJ = None\n",
    "    minM = None\n",
    "    minV = None\n",
    "    \n",
    "    for m in range(0, 100):\n",
    "        \n",
    "        # 1. Get two random lines, their lever vectors, and vanishing direction\n",
    "        lineIndices = np.random.randint(low = 0, high = lines.shape[0], size = 2).tolist()\n",
    "        i = lineIndices[0]\n",
    "        j = lineIndices[1]\n",
    "        n1 = leverVectors[i]\n",
    "        n2 = leverVectors[j]\n",
    "        v = getVanishingDirection(n1, n2)\n",
    "        #print(n1, n2, v)\n",
    "        print(\"angle n1, v: \" + str({getAngleBetween(n1, v)}))\n",
    "        print(\"angle n2, v: \" + str({getAngleBetween(n2, v)}))\n",
    "        \n",
    "        # compute residual between the vanishining direction and other lever vectors. Ideally it should be close to 0\n",
    "        residuals = []\n",
    "        for k in range(lines.shape[0]):\n",
    "            if k != i and k != j:\n",
    "                nk = leverVectors[k]\n",
    "                r = getResidual(nk, v)\n",
    "                residuals.append( r )\n",
    "#                 print(f'angle deviation(theoretically 0): {90 - getAngleBetween(nk, v)}')\n",
    "                \n",
    "        \n",
    "        medResidual = np.median(np.array(residuals))\n",
    "        medianResiduals.append(medResidual)\n",
    "        \n",
    "        if medResidual < minResidual:\n",
    "            minResidual = medResidual\n",
    "            minM = m\n",
    "            minI = i\n",
    "            minJ = j\n",
    "            minV = v\n",
    "            \n",
    "    \n",
    "    print(minResidual)\n",
    "    return minV\n",
    "    \n"
   ]
  },
  {
   "cell_type": "code",
   "execution_count": null,
   "metadata": {},
   "outputs": [],
   "source": [
    "horVP = LMedS(horizontalLines, KInverse)\n",
    "#vertVP = LMedS(verticalLines)    "
   ]
  },
  {
   "cell_type": "code",
   "execution_count": null,
   "metadata": {},
   "outputs": [],
   "source": [
    "np.dot(horVP, vertVP) # should be close to 0.\n",
    "    "
   ]
  },
  {
   "cell_type": "code",
   "execution_count": null,
   "metadata": {},
   "outputs": [],
   "source": [
    "transversalVP = np.cross(horVP, vertVP)\n",
    "transversalVP = transversalVP / np.linalg.norm(transversalVP)"
   ]
  },
  {
   "cell_type": "code",
   "execution_count": null,
   "metadata": {},
   "outputs": [],
   "source": [
    "transversalVP"
   ]
  },
  {
   "cell_type": "code",
   "execution_count": null,
   "metadata": {},
   "outputs": [],
   "source": [
    "minimum residual: 0.0006232444308441054\n",
    "minimum residual: 0.004080926175508643"
   ]
  },
  {
   "cell_type": "code",
   "execution_count": null,
   "metadata": {},
   "outputs": [],
   "source": []
  }
 ],
 "metadata": {
  "kernelspec": {
   "display_name": "Python 3",
   "language": "python",
   "name": "python3"
  },
  "language_info": {
   "codemirror_mode": {
    "name": "ipython",
    "version": 3
   },
   "file_extension": ".py",
   "mimetype": "text/x-python",
   "name": "python",
   "nbconvert_exporter": "python",
   "pygments_lexer": "ipython3",
   "version": "3.5.6"
  }
 },
 "nbformat": 4,
 "nbformat_minor": 4
}
