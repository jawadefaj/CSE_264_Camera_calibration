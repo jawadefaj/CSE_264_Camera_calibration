{
 "cells": [
  {
   "cell_type": "code",
   "execution_count": 1,
   "metadata": {},
   "outputs": [],
   "source": [
    "# Part 4: Find the rectifying homography"
   ]
  },
  {
   "cell_type": "code",
   "execution_count": 2,
   "metadata": {},
   "outputs": [],
   "source": [
    "import numpy as np\n",
    "import cv2\n",
    "import sys"
   ]
  },
  {
   "cell_type": "code",
   "execution_count": 3,
   "metadata": {},
   "outputs": [],
   "source": [
    "horVP = np.load('horVP.npy')\n",
    "vertVP = np.load('vertVP.npy')\n",
    "transversalVP = np.load('transversalVP.npy')\n",
    "K = np.load('newcameramtx.npy')\n",
    "Kinv = np.linalg.inv(K)\n",
    "srcImage = cv2.imread('building_undis.jpg')\n",
    "destPathW = 'images/buildingTransformedW.jpg'\n",
    "destPathR = 'images/buildingTransformedR.jpg'"
   ]
  },
  {
   "cell_type": "code",
   "execution_count": 4,
   "metadata": {},
   "outputs": [
    {
     "name": "stdout",
     "output_type": "stream",
     "text": [
      "[0.74726724 0.00652269 0.66449163]\n",
      "[ 0.02130695  0.99742302 -0.06850789]\n",
      "[-0.66340305  0.06536943  0.74540139]\n"
     ]
    }
   ],
   "source": [
    "# horVP = -horVP\n",
    "print(horVP)\n",
    "print(vertVP)\n",
    "print(transversalVP)"
   ]
  },
  {
   "cell_type": "code",
   "execution_count": 5,
   "metadata": {},
   "outputs": [
    {
     "data": {
      "text/plain": [
       "array([[ 0.74726724,  0.02130695, -0.66340305],\n",
       "       [ 0.00652269,  0.99742302,  0.06536943],\n",
       "       [ 0.66449163, -0.06850789,  0.74540139]])"
      ]
     },
     "execution_count": 5,
     "metadata": {},
     "output_type": "execute_result"
    }
   ],
   "source": [
    "W = np.stack((horVP, vertVP, transversalVP))\n",
    "R = W.transpose()\n",
    "R"
   ]
  },
  {
   "cell_type": "code",
   "execution_count": 6,
   "metadata": {},
   "outputs": [],
   "source": [
    "WInv = np.linalg.inv(W)"
   ]
  },
  {
   "cell_type": "code",
   "execution_count": 7,
   "metadata": {},
   "outputs": [
    {
     "data": {
      "text/plain": [
       "array([ 0.08262237,  0.99051334, -0.10523893])"
      ]
     },
     "execution_count": 7,
     "metadata": {},
     "output_type": "execute_result"
    }
   ],
   "source": [
    "np.dot(R, vertVP)"
   ]
  },
  {
   "cell_type": "code",
   "execution_count": 8,
   "metadata": {},
   "outputs": [
    {
     "data": {
      "text/plain": [
       "array([ 0.09987559,  0.99168575, -0.08998648])"
      ]
     },
     "execution_count": 8,
     "metadata": {},
     "output_type": "execute_result"
    }
   ],
   "source": [
    "np.dot(WInv , vertVP)"
   ]
  },
  {
   "cell_type": "code",
   "execution_count": 41,
   "metadata": {},
   "outputs": [],
   "source": [
    "Ht = np.array([[1, 0, 0],\n",
    "     [0, 1, 1000],\n",
    "     [0, 0, 1]])"
   ]
  },
  {
   "cell_type": "code",
   "execution_count": 42,
   "metadata": {},
   "outputs": [],
   "source": [
    "Hw = np.dot( Ht, np.dot( np.dot(K, W), Kinv ) )\n",
    "Hr = np.dot( Ht, np.dot( np.dot(K, R), Kinv ) )"
   ]
  },
  {
   "cell_type": "code",
   "execution_count": 43,
   "metadata": {},
   "outputs": [
    {
     "data": {
      "text/plain": [
       "True"
      ]
     },
     "execution_count": 43,
     "metadata": {},
     "output_type": "execute_result"
    }
   ],
   "source": [
    "transformedImageW = cv2.warpPerspective(srcImage, M = Hw, dsize = (4000, 2500))\n",
    "# cv2.imshow('img-W', transformedImageW)\n",
    "# cv2.waitKey(5000)\n",
    "# cv2.destroyAllWindows()\n",
    "cv2.imwrite(destPathW, transformedImageW)"
   ]
  },
  {
   "cell_type": "code",
   "execution_count": 44,
   "metadata": {},
   "outputs": [
    {
     "data": {
      "text/plain": [
       "True"
      ]
     },
     "execution_count": 44,
     "metadata": {},
     "output_type": "execute_result"
    }
   ],
   "source": [
    "transformedImageR = cv2.warpPerspective(srcImage, M = Hr, dsize = (4000, 2500))\n",
    "# cv2.imshow('img-R', transformedImageR)\n",
    "# cv2.waitKey(5000)\n",
    "# cv2.destroyAllWindows()\n",
    "cv2.imwrite(destPathR, transformedImageR)"
   ]
  },
  {
   "cell_type": "code",
   "execution_count": 31,
   "metadata": {},
   "outputs": [
    {
     "data": {
      "text/plain": [
       "True"
      ]
     },
     "execution_count": 31,
     "metadata": {},
     "output_type": "execute_result"
    }
   ],
   "source": []
  },
  {
   "cell_type": "code",
   "execution_count": null,
   "metadata": {},
   "outputs": [],
   "source": []
  },
  {
   "cell_type": "code",
   "execution_count": null,
   "metadata": {},
   "outputs": [],
   "source": []
  }
 ],
 "metadata": {
  "kernelspec": {
   "display_name": "Python 3",
   "language": "python",
   "name": "python3"
  },
  "language_info": {
   "codemirror_mode": {
    "name": "ipython",
    "version": 3
   },
   "file_extension": ".py",
   "mimetype": "text/x-python",
   "name": "python",
   "nbconvert_exporter": "python",
   "pygments_lexer": "ipython3",
   "version": "3.5.6"
  }
 },
 "nbformat": 4,
 "nbformat_minor": 4
}
