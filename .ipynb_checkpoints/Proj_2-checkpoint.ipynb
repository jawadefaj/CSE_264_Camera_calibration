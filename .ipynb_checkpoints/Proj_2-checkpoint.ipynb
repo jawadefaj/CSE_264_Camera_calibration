{
 "cells": [
  {
   "cell_type": "code",
   "execution_count": 26,
   "metadata": {},
   "outputs": [],
   "source": [
    "import numpy as np\n",
    "import cv2\n",
    "import glob\n",
    "\n",
    "# termination criteria\n",
    "criteria = (cv2.TERM_CRITERIA_EPS + cv2.TERM_CRITERIA_MAX_ITER, 30, 0.001)\n",
    "\n",
    "boardsize = (7,7)\n",
    "# prepare object points, like (0,0,0), (1,0,0), (2,0,0) ....,(6,5,0)\n",
    "objp = np.zeros((6*9,3), np.float32)\n",
    "objp[:,:2] = np.mgrid[0:9,0:6].T.reshape(-1,2)\n",
    "\n",
    "# Arrays to store object points and image points from all the images.\n",
    "objpoints = [] # 3d point in real world space\n",
    "imgpoints = [] # 2d points in image plane.\n",
    "imgObjects = {}"
   ]
  },
  {
   "cell_type": "code",
   "execution_count": 23,
   "metadata": {},
   "outputs": [
    {
     "name": "stdout",
     "output_type": "stream",
     "text": [
      "cannot find corners for Photos _resized\\resized_0_cor.jpg\n",
      "cannot find corners for Photos _resized\\resized_10_cor.jpg\n",
      "cannot find corners for Photos _resized\\resized_11_cor.jpg\n",
      "cannot find corners for Photos _resized\\resized_12_cor.jpg\n",
      "cannot find corners for Photos _resized\\resized_13_cor.jpg\n",
      "cannot find corners for Photos _resized\\resized_14_cor.jpg\n",
      "cannot find corners for Photos _resized\\resized_15_cor.jpg\n",
      "cannot find corners for Photos _resized\\resized_16_cor.jpg\n",
      "cannot find corners for Photos _resized\\resized_17_cor.jpg\n",
      "cannot find corners for Photos _resized\\resized_1_cor.jpg\n",
      "cannot find corners for Photos _resized\\resized_2_cor.jpg\n",
      "cannot find corners for Photos _resized\\resized_3_cor.jpg\n",
      "cannot find corners for Photos _resized\\resized_4_cor.jpg\n",
      "cannot find corners for Photos _resized\\resized_5_cor.jpg\n",
      "cannot find corners for Photos _resized\\resized_6_cor.jpg\n",
      "cannot find corners for Photos _resized\\resized_7_cor.jpg\n",
      "cannot find corners for Photos _resized\\resized_8_cor.jpg\n",
      "cannot find corners for Photos _resized\\resized_9_cor.jpg\n"
     ]
    }
   ],
   "source": [
    "images = glob.glob('Photos _resized/*.jpg')\n",
    "i = 0\n",
    "for fname in images:\n",
    "    i = i + 1\n",
    "    print(fname)\n",
    "    img = cv2.imread(fname)\n",
    "    gray = cv2.cvtColor(img,cv2.COLOR_BGR2GRAY)\n",
    "\n",
    "    # Find the chess board corners\n",
    "    ret, corners = cv2.findChessboardCorners(gray, boardsize,None)\n",
    "\n",
    "    # If found, add object points, image points (after refining them)\n",
    "    if ret == True:\n",
    "        print(\"Corner found \" + fname)\n",
    "        objpoints.append(objp)\n",
    "        cv2.cornerSubPix(gray,corners,(11,11),(-1,-1),criteria)\n",
    "        imgpoints.append(corners)\n",
    "        cv2.drawChessboardCorners(img, boardsize, corners,ret)\n",
    "        cv2.imwrite(fname.replace('.jpg', '_cor.jpg'), img)\n",
    "        imgObjects[fname] = img\n",
    "    else:\n",
    "        print(\"Corner not found\" + fname)\n",
    "\n",
    "# cv2.destroyAllWindows()"
   ]
  },
  {
   "cell_type": "code",
   "execution_count": 24,
   "metadata": {},
   "outputs": [
    {
     "name": "stdout",
     "output_type": "stream",
     "text": [
      "Photos _resized\\resized_3.jpg\n",
      "Photos _resized\\resized_14.jpg\n",
      "Photos _resized\\resized_6.jpg\n",
      "Photos _resized\\resized_17.jpg\n",
      "Photos _resized\\resized_16.jpg\n",
      "Photos _resized\\resized_15.jpg\n",
      "Photos _resized\\resized_11.jpg\n",
      "Photos _resized\\resized_7.jpg\n",
      "Photos _resized\\resized_8.jpg\n",
      "Photos _resized\\resized_10.jpg\n",
      "Photos _resized\\resized_5.jpg\n",
      "Photos _resized\\resized_2.jpg\n",
      "Photos _resized\\resized_9.jpg\n",
      "Photos _resized\\resized_12.jpg\n",
      "Photos _resized\\resized_0.jpg\n",
      "Photos _resized\\resized_4.jpg\n",
      "Photos _resized\\resized_13.jpg\n",
      "Photos _resized\\resized_1.jpg\n"
     ]
    }
   ],
   "source": [
    "for fname, img in imgObjects.items():\n",
    "    print(fname)\n",
    "    cv2.imshow('img', img)\n",
    "    cv2.waitKey(5000)\n",
    "    cv2.destroyAllWindows()"
   ]
  },
  {
   "cell_type": "code",
   "execution_count": 25,
   "metadata": {},
   "outputs": [
    {
     "ename": "error",
     "evalue": "OpenCV(3.4.2) C:\\Miniconda3\\conda-bld\\opencv-suite_1534379934306\\work\\modules\\calib3d\\src\\calibration.cpp:3143: error: (-215:Assertion failed) ni == ni1 in function 'cv::collectCalibrationData'\n",
     "output_type": "error",
     "traceback": [
      "\u001b[1;31m---------------------------------------------------------------------------\u001b[0m",
      "\u001b[1;31merror\u001b[0m                                     Traceback (most recent call last)",
      "\u001b[1;32m<ipython-input-25-908a6d89233e>\u001b[0m in \u001b[0;36m<module>\u001b[1;34m()\u001b[0m\n\u001b[0;32m      1\u001b[0m \u001b[1;31m# Calibrate camera\u001b[0m\u001b[1;33m\u001b[0m\u001b[1;33m\u001b[0m\u001b[0m\n\u001b[1;32m----> 2\u001b[1;33m \u001b[0mret\u001b[0m\u001b[1;33m,\u001b[0m \u001b[0mmtx\u001b[0m\u001b[1;33m,\u001b[0m \u001b[0mdist\u001b[0m\u001b[1;33m,\u001b[0m \u001b[0mrvecs\u001b[0m\u001b[1;33m,\u001b[0m \u001b[0mtvecs\u001b[0m \u001b[1;33m=\u001b[0m \u001b[0mcv2\u001b[0m\u001b[1;33m.\u001b[0m\u001b[0mcalibrateCamera\u001b[0m\u001b[1;33m(\u001b[0m\u001b[0mobjpoints\u001b[0m\u001b[1;33m,\u001b[0m \u001b[0mimgpoints\u001b[0m\u001b[1;33m,\u001b[0m \u001b[0mgray\u001b[0m\u001b[1;33m.\u001b[0m\u001b[0mshape\u001b[0m\u001b[1;33m[\u001b[0m\u001b[1;33m:\u001b[0m\u001b[1;33m:\u001b[0m\u001b[1;33m-\u001b[0m\u001b[1;36m1\u001b[0m\u001b[1;33m]\u001b[0m\u001b[1;33m,\u001b[0m\u001b[1;32mNone\u001b[0m\u001b[1;33m,\u001b[0m\u001b[1;32mNone\u001b[0m\u001b[1;33m)\u001b[0m\u001b[1;33m\u001b[0m\u001b[0m\n\u001b[0m",
      "\u001b[1;31merror\u001b[0m: OpenCV(3.4.2) C:\\Miniconda3\\conda-bld\\opencv-suite_1534379934306\\work\\modules\\calib3d\\src\\calibration.cpp:3143: error: (-215:Assertion failed) ni == ni1 in function 'cv::collectCalibrationData'\n"
     ]
    }
   ],
   "source": [
    "# Calibrate camera\n",
    "ret, mtx, dist, rvecs, tvecs = cv2.calibrateCamera(objpoints, imgpoints, gray.shape[::-1],None,None)"
   ]
  },
  {
   "cell_type": "code",
   "execution_count": null,
   "metadata": {},
   "outputs": [],
   "source": [
    "print(ret)\n",
    "print(mtx)\n",
    "print(dist)"
   ]
  },
  {
   "cell_type": "code",
   "execution_count": null,
   "metadata": {},
   "outputs": [],
   "source": [
    "# reprojection error\n",
    "tot_error = 0.\n",
    "for i in range(len(objpoints)):\n",
    "    imgpoints2, _ = cv2.projectPoints(objpoints[i], rvecs[i], tvecs[i], mtx, dist)\n",
    "    error = cv2.norm(imgpoints[i],imgpoints2, cv2.NORM_L2)/len(imgpoints2)\n",
    "    tot_error += error\n",
    "#     print(f'error for {i}: {error}')\n",
    "\n",
    "print(\"total error: \", tot_error/len(objpoints))"
   ]
  },
  {
   "cell_type": "code",
   "execution_count": null,
   "metadata": {},
   "outputs": [],
   "source": []
  }
 ],
 "metadata": {
  "kernelspec": {
   "display_name": "Python 3",
   "language": "python",
   "name": "python3"
  }
 },
 "nbformat": 4,
 "nbformat_minor": 4
}
