{
 "cells": [
  {
   "cell_type": "code",
   "execution_count": 1,
   "metadata": {},
   "outputs": [],
   "source": [
    "import numpy as np\n",
    "import cv2\n",
    "import glob"
   ]
  },
  {
   "cell_type": "code",
   "execution_count": 2,
   "metadata": {},
   "outputs": [],
   "source": [
    "def imageresize(img):\n",
    "    print('Original Dimensions : ',img.shape)\n",
    "    scale_percent = 30 \n",
    "    width = int(img.shape[1] * scale_percent / 100)\n",
    "    height = int(img.shape[0] * scale_percent / 100)\n",
    "    dim = (width, height)\n",
    "    # resize image\n",
    "    resized = cv2.resize(img, dim, interpolation = cv2.INTER_AREA)\n",
    "    print('Resized Dimensions : ',resized.shape)\n",
    "    return resized"
   ]
  },
  {
   "cell_type": "code",
   "execution_count": 3,
   "metadata": {},
   "outputs": [
    {
     "name": "stdout",
     "output_type": "stream",
     "text": [
      "Original Dimensions :  (3024, 4032, 3)\n",
      "Resized Dimensions :  (907, 1209, 3)\n",
      "Original Dimensions :  (3024, 4032, 3)\n",
      "Resized Dimensions :  (907, 1209, 3)\n",
      "Original Dimensions :  (3024, 4032, 3)\n",
      "Resized Dimensions :  (907, 1209, 3)\n",
      "Original Dimensions :  (3024, 4032, 3)\n",
      "Resized Dimensions :  (907, 1209, 3)\n"
     ]
    }
   ],
   "source": [
    "images = glob.glob('imagedraw/*.jpg')\n",
    "i = 0\n",
    "for fname in images:\n",
    "    img = cv2.imread(fname)\n",
    "    img = imageresize(img)\n",
    "    cv2.imwrite('resized_board'+str(i)+'.jpg', img)\n",
    "    i = i + 1"
   ]
  },
  {
   "cell_type": "code",
   "execution_count": null,
   "metadata": {},
   "outputs": [],
   "source": []
  }
 ],
 "metadata": {
  "kernelspec": {
   "display_name": "Python 3",
   "language": "python",
   "name": "python3"
  },
  "language_info": {
   "codemirror_mode": {
    "name": "ipython",
    "version": 3
   },
   "file_extension": ".py",
   "mimetype": "text/x-python",
   "name": "python",
   "nbconvert_exporter": "python",
   "pygments_lexer": "ipython3",
   "version": "3.5.6"
  }
 },
 "nbformat": 4,
 "nbformat_minor": 4
}
