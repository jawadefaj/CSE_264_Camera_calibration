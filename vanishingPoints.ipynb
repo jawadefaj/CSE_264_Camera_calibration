{
 "cells": [
  {
   "cell_type": "code",
   "execution_count": null,
   "metadata": {},
   "outputs": [],
   "source": [
    "import numpy as np\n",
    "import cv2\n",
    "import sys\n",
    "import pandas as pd\n",
    "\n",
    "\n",
    "def getAngleBetween(a, b):\n",
    "    dot_product = np.dot(a, b) # x.y\n",
    "    norm_a = np.linalg.norm(a) #|x|\n",
    "    norm_b = np.linalg.norm(b) #|y|\n",
    "    cosTheta =  dot_product / (norm_a * norm_b)\n",
    "    return (np.arccos(cosTheta) * 180) / 3.1415\n",
    "\n",
    "\n",
    "    \n",
    "def LMedS(lines, n = 100):\n",
    "    \n",
    "    leverVectors = []\n",
    "    for lineIndex in range(lines.shape[0]):\n",
    "        leverVectors.append(getLeverVector(lines[lineIndex]))\n",
    "        \n",
    "    medianResiduals = []\n",
    "    minResidual = sys.float_info.max\n",
    "    minI = None, minJ = None, minM = None, minV = None\n",
    "    \n",
    "    for m in range(0, n):\n",
    "        \n",
    "        lineIndices = np.random.randint(low = 0, high = lines.shape[0], size = 2).tolist()\n",
    "        i = lineIndices[0]\n",
    "        j = lineIndices[1]\n",
    "        n1 = leverVectors[i]\n",
    "        n2 = leverVectors[j]\n",
    "        v = getVanishingDirection(n1, n2)\n",
    "        residuals = []\n",
    "        for k in range(lines.shape[0]):\n",
    "            if k != i and k != j:\n",
    "                nk = leverVectors[k]\n",
    "                r = getResidual(nk, v)\n",
    "                residuals.append( r )\n",
    "                \n",
    "        \n",
    "        medResidual = np.nanmedian(np.array(residuals))\n",
    "        medianResiduals.append(medResidual)\n",
    "        \n",
    "        if medResidual < minResidual:\n",
    "            minResidual = medResidual\n",
    "            minM = m\n",
    "            minI = i\n",
    "            minJ = j\n",
    "            minV = v\n",
    "            \n",
    "    \n",
    "    print(\"residual: \" + str(minResidual))\n",
    "    return minV, minResidual\n",
    "\n",
    "\n",
    "def getPixelCorrdinatesOfVP(v):\n",
    "    xH = np.dot(fixedMtx, v)\n",
    "    xH = xH / xH[2]\n",
    "    return (xH[0], xH[1])\n",
    "    \n",
    "def getCameraPoint(pixelPoint):\n",
    "    return np.dot(KInverse,np.array([pixelPoint[0], pixelPoint[1], 1]))\n",
    "\n",
    "def getLeverVector(points):\n",
    "    pc1 = getCameraPoint(points[0])\n",
    "    pc2 = getCameraPoint(points[1])\n",
    "    n = np.cross(pc1, pc2)\n",
    "    return n / np.linalg.norm(n) \n",
    "\n",
    "\n",
    "def getVanishingDirection(n1, n2):\n",
    "    v = np.cross(n1, n2)\n",
    "    return v / np.linalg.norm(v)\n",
    "    \n",
    "\n",
    "def getResidual(n, v):\n",
    "    r = np.linalg.norm(np.dot(n, v))\n",
    "    return r\n",
    "\n",
    "   "
   ]
  },
  {
   "cell_type": "code",
   "execution_count": null,
   "metadata": {},
   "outputs": [],
   "source": [
    "fixedMtx = np.array([[967.74176025,   0.0,         599.80400823],\n",
    "                     [  0.0,         979.05285645, 465.81112285],\n",
    "                     [  0.0,           0.0,           1.0   ]])\n",
    "KInverse = np.linalg.inv(fixedMtx)\n",
    "df = pd.read_excel(io='horizontalLines.xlsx')\n",
    "horizontalLines = np.load(df)\n",
    "df = pd.read_excel(io='verticalLines.xlsx')\n",
    "verticalLines = np.load('verticalLines.xlsx')"
   ]
  },
  {
   "cell_type": "code",
   "execution_count": null,
   "metadata": {},
   "outputs": [],
   "source": [
    "horVP, horResidual, _, _ = LMedS(horizontalLines)\n",
    "vertVP, vertResidual, _, _ = LMedS(verticalLines)    "
   ]
  },
  {
   "cell_type": "code",
   "execution_count": null,
   "metadata": {},
   "outputs": [],
   "source": [
    "getAngleBetween(horVP, vertVP)"
   ]
  },
  {
   "cell_type": "code",
   "execution_count": null,
   "metadata": {},
   "outputs": [],
   "source": [
    "transversalVP = np.cross(horVP, vertVP)\n",
    "transversalVP = transversalVP / np.linalg.norm(transversalVP)"
   ]
  },
  {
   "cell_type": "code",
   "execution_count": null,
   "metadata": {},
   "outputs": [],
   "source": [
    "print(horVP)\n",
    "print(vertVP)\n",
    "print(transversalVP)\n",
    "print(getPixelCorrdinatesOfVP(horVP))\n",
    "print(getPixelCorrdinatesOfVP(vertVP))"
   ]
  }
 ],
 "metadata": {
  "kernelspec": {
   "display_name": "Python 3",
   "language": "python",
   "name": "python3"
  },
  "language_info": {
   "codemirror_mode": {
    "name": "ipython",
    "version": 3
   },
   "file_extension": ".py",
   "mimetype": "text/x-python",
   "name": "python",
   "nbconvert_exporter": "python",
   "pygments_lexer": "ipython3",
   "version": "3.5.6"
  }
 },
 "nbformat": 4,
 "nbformat_minor": 4
}
